{
 "cells": [
  {
   "cell_type": "code",
   "execution_count": 74,
   "metadata": {},
   "outputs": [
    {
     "data": {
      "text/html": [
       "<div>\n",
       "<style scoped>\n",
       "    .dataframe tbody tr th:only-of-type {\n",
       "        vertical-align: middle;\n",
       "    }\n",
       "\n",
       "    .dataframe tbody tr th {\n",
       "        vertical-align: top;\n",
       "    }\n",
       "\n",
       "    .dataframe thead th {\n",
       "        text-align: right;\n",
       "    }\n",
       "</style>\n",
       "<table border=\"1\" class=\"dataframe\">\n",
       "  <thead>\n",
       "    <tr style=\"text-align: right;\">\n",
       "      <th></th>\n",
       "      <th>Geography</th>\n",
       "      <th>Date</th>\n",
       "      <th>Type</th>\n",
       "      <th>Percent Change from Baseline</th>\n",
       "      <th>ID Geography</th>\n",
       "    </tr>\n",
       "  </thead>\n",
       "  <tbody>\n",
       "    <tr>\n",
       "      <th>0</th>\n",
       "      <td>New Jersey</td>\n",
       "      <td>2020/02/15</td>\n",
       "      <td>Retail and Recreation</td>\n",
       "      <td>3</td>\n",
       "      <td>04000US34</td>\n",
       "    </tr>\n",
       "    <tr>\n",
       "      <th>1</th>\n",
       "      <td>New Jersey</td>\n",
       "      <td>2020/02/16</td>\n",
       "      <td>Retail and Recreation</td>\n",
       "      <td>4</td>\n",
       "      <td>04000US34</td>\n",
       "    </tr>\n",
       "    <tr>\n",
       "      <th>2</th>\n",
       "      <td>New Jersey</td>\n",
       "      <td>2020/02/17</td>\n",
       "      <td>Retail and Recreation</td>\n",
       "      <td>14</td>\n",
       "      <td>04000US34</td>\n",
       "    </tr>\n",
       "    <tr>\n",
       "      <th>3</th>\n",
       "      <td>New Jersey</td>\n",
       "      <td>2020/02/18</td>\n",
       "      <td>Retail and Recreation</td>\n",
       "      <td>1</td>\n",
       "      <td>04000US34</td>\n",
       "    </tr>\n",
       "    <tr>\n",
       "      <th>4</th>\n",
       "      <td>New Jersey</td>\n",
       "      <td>2020/02/19</td>\n",
       "      <td>Retail and Recreation</td>\n",
       "      <td>2</td>\n",
       "      <td>04000US34</td>\n",
       "    </tr>\n",
       "  </tbody>\n",
       "</table>\n",
       "</div>"
      ],
      "text/plain": [
       "    Geography        Date                   Type  \\\n",
       "0  New Jersey  2020/02/15  Retail and Recreation   \n",
       "1  New Jersey  2020/02/16  Retail and Recreation   \n",
       "2  New Jersey  2020/02/17  Retail and Recreation   \n",
       "3  New Jersey  2020/02/18  Retail and Recreation   \n",
       "4  New Jersey  2020/02/19  Retail and Recreation   \n",
       "\n",
       "   Percent Change from Baseline ID Geography  \n",
       "0                             3    04000US34  \n",
       "1                             4    04000US34  \n",
       "2                            14    04000US34  \n",
       "3                             1    04000US34  \n",
       "4                             2    04000US34  "
      ]
     },
     "execution_count": 74,
     "metadata": {},
     "output_type": "execute_result"
    }
   ],
   "source": [
    "import pandas as pd\n",
    "import matplotlib.pyplot as plt\n",
    "import numpy as np\n",
    "import csv\n",
    "load_file = \"C:/Users/fbrat/Downloads/Community Mobility/Community_Mobility.csv\"\n",
    "\n",
    "mobility_df = pd.read_csv(load_file)\n",
    "mobility_df.head()\n",
    "\n"
   ]
  },
  {
   "cell_type": "code",
   "execution_count": 75,
   "metadata": {},
   "outputs": [
    {
     "data": {
      "text/html": [
       "<div>\n",
       "<style scoped>\n",
       "    .dataframe tbody tr th:only-of-type {\n",
       "        vertical-align: middle;\n",
       "    }\n",
       "\n",
       "    .dataframe tbody tr th {\n",
       "        vertical-align: top;\n",
       "    }\n",
       "\n",
       "    .dataframe thead th {\n",
       "        text-align: right;\n",
       "    }\n",
       "</style>\n",
       "<table border=\"1\" class=\"dataframe\">\n",
       "  <thead>\n",
       "    <tr style=\"text-align: right;\">\n",
       "      <th></th>\n",
       "      <th>Geography</th>\n",
       "      <th>Date</th>\n",
       "      <th>Type</th>\n",
       "      <th>Percent Change from Baseline</th>\n",
       "      <th>ID Geography</th>\n",
       "    </tr>\n",
       "  </thead>\n",
       "  <tbody>\n",
       "    <tr>\n",
       "      <th>1041</th>\n",
       "      <td>New Jersey</td>\n",
       "      <td>2020/02/15</td>\n",
       "      <td>Transit Stations</td>\n",
       "      <td>2</td>\n",
       "      <td>04000US34</td>\n",
       "    </tr>\n",
       "    <tr>\n",
       "      <th>1042</th>\n",
       "      <td>New Jersey</td>\n",
       "      <td>2020/02/16</td>\n",
       "      <td>Transit Stations</td>\n",
       "      <td>0</td>\n",
       "      <td>04000US34</td>\n",
       "    </tr>\n",
       "    <tr>\n",
       "      <th>1043</th>\n",
       "      <td>New Jersey</td>\n",
       "      <td>2020/02/17</td>\n",
       "      <td>Transit Stations</td>\n",
       "      <td>-15</td>\n",
       "      <td>04000US34</td>\n",
       "    </tr>\n",
       "    <tr>\n",
       "      <th>1044</th>\n",
       "      <td>New Jersey</td>\n",
       "      <td>2020/02/18</td>\n",
       "      <td>Transit Stations</td>\n",
       "      <td>2</td>\n",
       "      <td>04000US34</td>\n",
       "    </tr>\n",
       "    <tr>\n",
       "      <th>1045</th>\n",
       "      <td>New Jersey</td>\n",
       "      <td>2020/02/19</td>\n",
       "      <td>Transit Stations</td>\n",
       "      <td>2</td>\n",
       "      <td>04000US34</td>\n",
       "    </tr>\n",
       "    <tr>\n",
       "      <th>...</th>\n",
       "      <td>...</td>\n",
       "      <td>...</td>\n",
       "      <td>...</td>\n",
       "      <td>...</td>\n",
       "      <td>...</td>\n",
       "    </tr>\n",
       "    <tr>\n",
       "      <th>1383</th>\n",
       "      <td>New Jersey</td>\n",
       "      <td>2021/01/22</td>\n",
       "      <td>Transit Stations</td>\n",
       "      <td>-49</td>\n",
       "      <td>04000US34</td>\n",
       "    </tr>\n",
       "    <tr>\n",
       "      <th>1384</th>\n",
       "      <td>New Jersey</td>\n",
       "      <td>2021/01/23</td>\n",
       "      <td>Transit Stations</td>\n",
       "      <td>-42</td>\n",
       "      <td>04000US34</td>\n",
       "    </tr>\n",
       "    <tr>\n",
       "      <th>1385</th>\n",
       "      <td>New Jersey</td>\n",
       "      <td>2021/01/24</td>\n",
       "      <td>Transit Stations</td>\n",
       "      <td>-47</td>\n",
       "      <td>04000US34</td>\n",
       "    </tr>\n",
       "    <tr>\n",
       "      <th>1386</th>\n",
       "      <td>New Jersey</td>\n",
       "      <td>2021/01/25</td>\n",
       "      <td>Transit Stations</td>\n",
       "      <td>-51</td>\n",
       "      <td>04000US34</td>\n",
       "    </tr>\n",
       "    <tr>\n",
       "      <th>1387</th>\n",
       "      <td>New Jersey</td>\n",
       "      <td>2021/01/26</td>\n",
       "      <td>Transit Stations</td>\n",
       "      <td>-55</td>\n",
       "      <td>04000US34</td>\n",
       "    </tr>\n",
       "  </tbody>\n",
       "</table>\n",
       "<p>347 rows × 5 columns</p>\n",
       "</div>"
      ],
      "text/plain": [
       "       Geography        Date              Type  Percent Change from Baseline  \\\n",
       "1041  New Jersey  2020/02/15  Transit Stations                             2   \n",
       "1042  New Jersey  2020/02/16  Transit Stations                             0   \n",
       "1043  New Jersey  2020/02/17  Transit Stations                           -15   \n",
       "1044  New Jersey  2020/02/18  Transit Stations                             2   \n",
       "1045  New Jersey  2020/02/19  Transit Stations                             2   \n",
       "...          ...         ...               ...                           ...   \n",
       "1383  New Jersey  2021/01/22  Transit Stations                           -49   \n",
       "1384  New Jersey  2021/01/23  Transit Stations                           -42   \n",
       "1385  New Jersey  2021/01/24  Transit Stations                           -47   \n",
       "1386  New Jersey  2021/01/25  Transit Stations                           -51   \n",
       "1387  New Jersey  2021/01/26  Transit Stations                           -55   \n",
       "\n",
       "     ID Geography  \n",
       "1041    04000US34  \n",
       "1042    04000US34  \n",
       "1043    04000US34  \n",
       "1044    04000US34  \n",
       "1045    04000US34  \n",
       "...           ...  \n",
       "1383    04000US34  \n",
       "1384    04000US34  \n",
       "1385    04000US34  \n",
       "1386    04000US34  \n",
       "1387    04000US34  \n",
       "\n",
       "[347 rows x 5 columns]"
      ]
     },
     "execution_count": 75,
     "metadata": {},
     "output_type": "execute_result"
    }
   ],
   "source": [
    "type_df = mobility_df.loc[mobility_df[\"Type\"]== \"Transit Stations\",:]\n",
    "type_df"
   ]
  },
  {
   "cell_type": "code",
   "execution_count": 77,
   "metadata": {},
   "outputs": [
    {
     "data": {
      "text/plain": [
       "array(['Retail and Recreation', 'Grocery and Pharmacy', 'Parks',\n",
       "       'Transit Stations', 'Workplaces', 'Residential'], dtype=object)"
      ]
     },
     "execution_count": 77,
     "metadata": {},
     "output_type": "execute_result"
    }
   ],
   "source": [
    "mobility_df[\"Type\"].unique()\n"
   ]
  },
  {
   "cell_type": "code",
   "execution_count": 119,
   "metadata": {},
   "outputs": [
    {
     "data": {
      "text/plain": [
       "(-5.0, 250.0)"
      ]
     },
     "execution_count": 119,
     "metadata": {},
     "output_type": "execute_result"
    },
    {
     "data": {
      "image/png": "[encoded data removed]",
      "text/plain": [
       "<Figure size 432x288 with 1 Axes>"
      ]
     },
     "metadata": {
      "needs_background": "light"
     },
     "output_type": "display_data"
    }
   ],
   "source": [
    "type_df.plot(x=\"Date\", y=\"Percent Change from Baseline\")\n",
    "plt.xlim(-5,250)"
   ]
  },
  {
   "cell_type": "code",
   "execution_count": null,
   "metadata": {},
   "outputs": [],
   "source": []
  }
 ],
 "metadata": {
  "kernelspec": {
   "display_name": "Python 3",
   "language": "python",
   "name": "python3"
  },
  "language_info": {
   "codemirror_mode": {
    "name": "ipython",
    "version": 3
   },
   "file_extension": ".py",
   "mimetype": "text/x-python",
   "name": "python",
   "nbconvert_exporter": "python",
   "pygments_lexer": "ipython3",
   "version": "3.9.1"
  }
 },
 "nbformat": 4,
 "nbformat_minor": 4
}
